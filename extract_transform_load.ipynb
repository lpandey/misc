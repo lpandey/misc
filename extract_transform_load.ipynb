{
 "cells": [
  {
   "cell_type": "markdown",
   "metadata": {},
   "source": [
    "# Extract, transform, load (ETL) procedure\n",
    "\n",
    "In this exercise I will employ the ETL process using steps below\n",
    "\n",
    "- extract world nations GDP data from [wikipedia](https://en.wikipedia.org/wiki/List_of_countries_by_GDP_(nominal)) (using BeautifulSoup),\n",
    "\n",
    "- transform exctracted data (gdp figures from comma separated strings to numerical and then convert to desired currency using exchange rates obtained via the [currencylayer API](http://api.currencylayer.com/), and\n",
    "\n",
    "- load the transformed data into a csv (or json) file."
   ]
  },
  {
   "cell_type": "code",
   "execution_count": 1,
   "metadata": {},
   "outputs": [],
   "source": [
    "# setup environment\n",
    "import requests\n",
    "import json\n",
    "import pandas as pd\n",
    "from bs4 import BeautifulSoup\n",
    "from datetime import datetime"
   ]
  },
  {
   "cell_type": "markdown",
   "metadata": {},
   "source": [
    "## Extract GDP's\n",
    "\n",
    "Extract countries/territories and their GDPs (US$ Million) from wikipedia"
   ]
  },
  {
   "cell_type": "code",
   "execution_count": 2,
   "metadata": {},
   "outputs": [],
   "source": [
    "# function to get webpage text\n",
    "def get_html_text(url: str) -> str: \n",
    "    '''fetches and returns webpage html text using requests'''\n",
    "    html_text = requests.get(url).text\n",
    "    return html_text"
   ]
  },
  {
   "cell_type": "code",
   "execution_count": 3,
   "metadata": {},
   "outputs": [],
   "source": [
    "# function to create acronym of agency\n",
    "def get_acronym(agency: str) -> str:\n",
    "    '''given an agency, returns its acronym'''\n",
    "    acronym = ''.join(word[0] for word in agency.split())\n",
    "    return acronym"
   ]
  },
  {
   "cell_type": "code",
   "execution_count": 4,
   "metadata": {
    "scrolled": true
   },
   "outputs": [],
   "source": [
    "# function to get gdp data (from one agency)\n",
    "def get_gdps(htmltext: str, acronym='WB') -> dict:\n",
    "    '''given gdptablestext and agency acronym, fetches all\n",
    "    country/territory names and corresponding gdp (in millionUS$)\n",
    "    as per the agency and returns them as dictionary'''\n",
    "    idx = acronyms.index(acronym) # get index\n",
    "    gdps = {}\n",
    "    for row in gdptablestext.find_all('tr')[1].find_all('tbody')[idx].find_all('tr'):\n",
    "        cols = row.find_all('td')\n",
    "        if len(cols) != 3:\n",
    "            continue # skip non-relevant rows\n",
    "        name = cols[1].find('a').text.strip()\n",
    "        gdp = cols[2].text.strip() # US$million\n",
    "        gdps[name] = gdp\n",
    "            \n",
    "    return gdps"
   ]
  },
  {
   "cell_type": "code",
   "execution_count": 5,
   "metadata": {},
   "outputs": [],
   "source": [
    "# function to get gdp data (from all agencies)\n",
    "def get_all_gdps(agencies: list, write=True) -> dict:\n",
    "    '''utilizes function get_gdp to extract gdp data\n",
    "    (from all agencies) and returns it as\n",
    "    dictionary of dictionaries (also writes .json)'''\n",
    "    all_gdps = {}\n",
    "    for agency in agencies:\n",
    "        acronym = get_acronym(agency)\n",
    "        all_gdps[acronym] = get_gdps(gdptablestext,\n",
    "                                         acronym=acronym)\n",
    "    if write: # save to gdps.json file\n",
    "        with open('gdps_usd.json', 'w') as wf:\n",
    "            json.dump(all_gdps, wf, indent=4)\n",
    "    \n",
    "    return all_gdps"
   ]
  },
  {
   "cell_type": "markdown",
   "metadata": {},
   "source": [
    "## Transform GDP's"
   ]
  },
  {
   "cell_type": "code",
   "execution_count": 6,
   "metadata": {},
   "outputs": [],
   "source": [
    "# function to get currency rate data\n",
    "def get_exchange_rates(url: str, write=True) -> dict:\n",
    "    '''uses requests to fetch and return currency\n",
    "    exchange rates (also writes .json file)'''\n",
    "    import re\n",
    "    # rates are in the `quotes` key of API response dictionary\n",
    "    rates = requests.get(url).json()['quotes']\n",
    "    # slice out leading 'USD' characters from rates keys\n",
    "    #rates = {k[-3:]: v for k, v in rates.items()}\n",
    "    # regular expression replace leading 'USD' group\n",
    "    rates = {re.sub(r'^(USD)', r'', k): v for k, v in rates.items()}\n",
    "\n",
    "    if write: # save exchange rates currency_exchange_rates.json\n",
    "        with open('exchange_rates.json', 'w') as wf:\n",
    "            json.dump(rates, wf, indent=4)\n",
    "    \n",
    "    return rates"
   ]
  },
  {
   "cell_type": "code",
   "execution_count": 7,
   "metadata": {},
   "outputs": [],
   "source": [
    "# function to transform gdp data\n",
    "def transform_gdps(gdps: dict, rates: dict,\n",
    "                   currency='GBP') -> pd.DataFrame:\n",
    "    '''transforms extracted gdp data from text to numerical,\n",
    "       and converts (and returns) gdps\n",
    "       from US$ to another currency of choice \n",
    "    '''\n",
    "    #df = pd.read_json('gdps_usd.json') # if reading from json\n",
    "    df = pd.DataFrame(gdps)\n",
    "    # replace ',' from string numerals\n",
    "    df.replace(',', '', regex=True, inplace=True)\n",
    "    # convert columns to numeric, mark errors with NaN\n",
    "    df = df.apply(pd.to_numeric, errors='coerce')\n",
    "    # drop rows with NaN\n",
    "    df.dropna(inplace=True)\n",
    "    \n",
    "    # convert gdp from (US$ Million) to specified currency\n",
    "    rate = rates[currency]\n",
    "    df = df.iloc[:] * rate\n",
    "    df = df.round(0).astype(int) # vs. smallest signed int\n",
    "    \n",
    "    return df"
   ]
  },
  {
   "cell_type": "markdown",
   "metadata": {},
   "source": [
    "## Load"
   ]
  },
  {
   "cell_type": "code",
   "execution_count": 8,
   "metadata": {},
   "outputs": [],
   "source": [
    "# function to load transformed data to csv\n",
    "def load(df_transformed: pd.DataFrame, wf_type='json'):\n",
    "    '''loads transformed gdps into csv (or json) file'''\n",
    "    joiner = currency.lower()\n",
    "    if wf_type.lower() == 'json':\n",
    "        df_transformed.to_json(f'gdps_{joiner}.json',\n",
    "                               orient='columns', indent=4)\n",
    "    elif wf_type.lower() == 'csv':\n",
    "        df_transformed.to_csv(f'gdps_{joiner}.csv')"
   ]
  },
  {
   "cell_type": "markdown",
   "metadata": {},
   "source": [
    "### Logging function"
   ]
  },
  {
   "cell_type": "code",
   "execution_count": 9,
   "metadata": {},
   "outputs": [],
   "source": [
    "# function to log process\n",
    "def log(message: str):\n",
    "    '''function to help log procedure'''\n",
    "    # Year-Monthname-Day-Hour-Minute-Second format\n",
    "    timestamp_format = '%Y-%h-%d-%H:%M:%S'\n",
    "    now = datetime.now() # get current timestamp\n",
    "    timestamp = now.strftime(timestamp_format)\n",
    "    with open('gdps_logfile.txt', 'a') as af:\n",
    "        af.write(f'{timestamp}, {message}\\n')"
   ]
  },
  {
   "cell_type": "markdown",
   "metadata": {},
   "source": [
    "## Execute the ETL procedue\n",
    "and log it using the logging function"
   ]
  },
  {
   "cell_type": "code",
   "execution_count": 10,
   "metadata": {},
   "outputs": [],
   "source": [
    "log('ETL Job Started')\n",
    "log('Extract phase Started')"
   ]
  },
  {
   "cell_type": "code",
   "execution_count": 11,
   "metadata": {},
   "outputs": [],
   "source": [
    "# wikipedia url for countries GDP\n",
    "URL = 'https://en.wikipedia.org/wiki/List_of_countries_by_GDP_(nominal)'\n",
    "\n",
    "html_text = get_html_text(URL)\n",
    "\n",
    "# use BeautifulSoup to parse webpage contents\n",
    "soup = BeautifulSoup(html_text, 'html.parser')\n",
    "\n",
    "# gdp tables within table with class attribute 'wikitable' \n",
    "gdptablestext = soup.find('table', attrs={'class': 'wikitable'})\n",
    "\n",
    "# list of agencies, each provides a gdp table\n",
    "# from gdptables --> first tr --> all (3) td\n",
    "agencies = [col.find('a').text.strip()\n",
    "            for col in gdptablestext.find('tr').find_all('td')]\n",
    "\n",
    "# list of acronyms of agencies that publish gdp data\n",
    "acronyms = [get_acronym(agency) for agency in agencies]\n",
    "\n",
    "# get gdps listed by all agencies\n",
    "gdps = get_all_gdps(agencies)"
   ]
  },
  {
   "cell_type": "code",
   "execution_count": 12,
   "metadata": {},
   "outputs": [
    {
     "data": {
      "text/html": [
       "<style  type=\"text/css\" >\n",
       "</style><table id=\"T_a987eab6_98d4_11eb_9d8c_88e9fe701abf\" ><caption>GDP's (USD millions); source: wikipedia 2021-04-08</caption><thead>    <tr>        <th class=\"blank level0\" ></th>        <th class=\"col_heading level0 col0\" >IMF</th>        <th class=\"col_heading level0 col1\" >WB</th>        <th class=\"col_heading level0 col2\" >UN</th>    </tr></thead><tbody>\n",
       "                <tr>\n",
       "                        <th id=\"T_a987eab6_98d4_11eb_9d8c_88e9fe701abflevel0_row0\" class=\"row_heading level0 row0\" >World</th>\n",
       "                        <td id=\"T_a987eab6_98d4_11eb_9d8c_88e9fe701abfrow0_col0\" class=\"data row0 col0\" >93,863,851</td>\n",
       "                        <td id=\"T_a987eab6_98d4_11eb_9d8c_88e9fe701abfrow0_col1\" class=\"data row0 col1\" >87,798,526</td>\n",
       "                        <td id=\"T_a987eab6_98d4_11eb_9d8c_88e9fe701abfrow0_col2\" class=\"data row0 col2\" >87,445,260</td>\n",
       "            </tr>\n",
       "            <tr>\n",
       "                        <th id=\"T_a987eab6_98d4_11eb_9d8c_88e9fe701abflevel0_row1\" class=\"row_heading level0 row1\" >United States</th>\n",
       "                        <td id=\"T_a987eab6_98d4_11eb_9d8c_88e9fe701abfrow1_col0\" class=\"data row1 col0\" >22,675,271</td>\n",
       "                        <td id=\"T_a987eab6_98d4_11eb_9d8c_88e9fe701abfrow1_col1\" class=\"data row1 col1\" >21,433,226</td>\n",
       "                        <td id=\"T_a987eab6_98d4_11eb_9d8c_88e9fe701abfrow1_col2\" class=\"data row1 col2\" >21,433,226</td>\n",
       "            </tr>\n",
       "            <tr>\n",
       "                        <th id=\"T_a987eab6_98d4_11eb_9d8c_88e9fe701abflevel0_row2\" class=\"row_heading level0 row2\" >China</th>\n",
       "                        <td id=\"T_a987eab6_98d4_11eb_9d8c_88e9fe701abfrow2_col0\" class=\"data row2 col0\" >16,642,318</td>\n",
       "                        <td id=\"T_a987eab6_98d4_11eb_9d8c_88e9fe701abfrow2_col1\" class=\"data row2 col1\" >14,342,903</td>\n",
       "                        <td id=\"T_a987eab6_98d4_11eb_9d8c_88e9fe701abfrow2_col2\" class=\"data row2 col2\" >14,342,933</td>\n",
       "            </tr>\n",
       "            <tr>\n",
       "                        <th id=\"T_a987eab6_98d4_11eb_9d8c_88e9fe701abflevel0_row3\" class=\"row_heading level0 row3\" >Japan</th>\n",
       "                        <td id=\"T_a987eab6_98d4_11eb_9d8c_88e9fe701abfrow3_col0\" class=\"data row3 col0\" >5,378,136</td>\n",
       "                        <td id=\"T_a987eab6_98d4_11eb_9d8c_88e9fe701abfrow3_col1\" class=\"data row3 col1\" >5,081,770</td>\n",
       "                        <td id=\"T_a987eab6_98d4_11eb_9d8c_88e9fe701abfrow3_col2\" class=\"data row3 col2\" >5,082,465</td>\n",
       "            </tr>\n",
       "            <tr>\n",
       "                        <th id=\"T_a987eab6_98d4_11eb_9d8c_88e9fe701abflevel0_row4\" class=\"row_heading level0 row4\" >Germany</th>\n",
       "                        <td id=\"T_a987eab6_98d4_11eb_9d8c_88e9fe701abfrow4_col0\" class=\"data row4 col0\" >4,319,286</td>\n",
       "                        <td id=\"T_a987eab6_98d4_11eb_9d8c_88e9fe701abfrow4_col1\" class=\"data row4 col1\" >3,861,124</td>\n",
       "                        <td id=\"T_a987eab6_98d4_11eb_9d8c_88e9fe701abfrow4_col2\" class=\"data row4 col2\" >3,861,123</td>\n",
       "            </tr>\n",
       "            <tr>\n",
       "                        <th id=\"T_a987eab6_98d4_11eb_9d8c_88e9fe701abflevel0_row5\" class=\"row_heading level0 row5\" >United Kingdom</th>\n",
       "                        <td id=\"T_a987eab6_98d4_11eb_9d8c_88e9fe701abfrow5_col0\" class=\"data row5 col0\" >3,124,650</td>\n",
       "                        <td id=\"T_a987eab6_98d4_11eb_9d8c_88e9fe701abfrow5_col1\" class=\"data row5 col1\" >2,829,108</td>\n",
       "                        <td id=\"T_a987eab6_98d4_11eb_9d8c_88e9fe701abfrow5_col2\" class=\"data row5 col2\" >2,826,441</td>\n",
       "            </tr>\n",
       "            <tr>\n",
       "                        <th id=\"T_a987eab6_98d4_11eb_9d8c_88e9fe701abflevel0_row6\" class=\"row_heading level0 row6\" >India</th>\n",
       "                        <td id=\"T_a987eab6_98d4_11eb_9d8c_88e9fe701abfrow6_col0\" class=\"data row6 col0\" >3,049,704</td>\n",
       "                        <td id=\"T_a987eab6_98d4_11eb_9d8c_88e9fe701abfrow6_col1\" class=\"data row6 col1\" >2,868,929</td>\n",
       "                        <td id=\"T_a987eab6_98d4_11eb_9d8c_88e9fe701abfrow6_col2\" class=\"data row6 col2\" >2,891,582</td>\n",
       "            </tr>\n",
       "            <tr>\n",
       "                        <th id=\"T_a987eab6_98d4_11eb_9d8c_88e9fe701abflevel0_row7\" class=\"row_heading level0 row7\" >France</th>\n",
       "                        <td id=\"T_a987eab6_98d4_11eb_9d8c_88e9fe701abfrow7_col0\" class=\"data row7 col0\" >2,938,271</td>\n",
       "                        <td id=\"T_a987eab6_98d4_11eb_9d8c_88e9fe701abfrow7_col1\" class=\"data row7 col1\" >2,715,518</td>\n",
       "                        <td id=\"T_a987eab6_98d4_11eb_9d8c_88e9fe701abfrow7_col2\" class=\"data row7 col2\" >2,715,518</td>\n",
       "            </tr>\n",
       "            <tr>\n",
       "                        <th id=\"T_a987eab6_98d4_11eb_9d8c_88e9fe701abflevel0_row8\" class=\"row_heading level0 row8\" >Italy</th>\n",
       "                        <td id=\"T_a987eab6_98d4_11eb_9d8c_88e9fe701abfrow8_col0\" class=\"data row8 col0\" >2,106,287</td>\n",
       "                        <td id=\"T_a987eab6_98d4_11eb_9d8c_88e9fe701abfrow8_col1\" class=\"data row8 col1\" >2,003,576</td>\n",
       "                        <td id=\"T_a987eab6_98d4_11eb_9d8c_88e9fe701abfrow8_col2\" class=\"data row8 col2\" >2,003,576</td>\n",
       "            </tr>\n",
       "            <tr>\n",
       "                        <th id=\"T_a987eab6_98d4_11eb_9d8c_88e9fe701abflevel0_row9\" class=\"row_heading level0 row9\" >Canada</th>\n",
       "                        <td id=\"T_a987eab6_98d4_11eb_9d8c_88e9fe701abfrow9_col0\" class=\"data row9 col0\" >1,883,487</td>\n",
       "                        <td id=\"T_a987eab6_98d4_11eb_9d8c_88e9fe701abfrow9_col1\" class=\"data row9 col1\" >1,736,426</td>\n",
       "                        <td id=\"T_a987eab6_98d4_11eb_9d8c_88e9fe701abfrow9_col2\" class=\"data row9 col2\" >1,741,496</td>\n",
       "            </tr>\n",
       "            <tr>\n",
       "                        <th id=\"T_a987eab6_98d4_11eb_9d8c_88e9fe701abflevel0_row10\" class=\"row_heading level0 row10\" >South Korea</th>\n",
       "                        <td id=\"T_a987eab6_98d4_11eb_9d8c_88e9fe701abfrow10_col0\" class=\"data row10 col0\" >1,806,707</td>\n",
       "                        <td id=\"T_a987eab6_98d4_11eb_9d8c_88e9fe701abfrow10_col1\" class=\"data row10 col1\" >1,646,739</td>\n",
       "                        <td id=\"T_a987eab6_98d4_11eb_9d8c_88e9fe701abfrow10_col2\" class=\"data row10 col2\" >1,646,539</td>\n",
       "            </tr>\n",
       "    </tbody></table>"
      ],
      "text/plain": [
       "<pandas.io.formats.style.Styler at 0x10a9d7890>"
      ]
     },
     "execution_count": 12,
     "metadata": {},
     "output_type": "execute_result"
    }
   ],
   "source": [
    "# display top 10 nations GDP\n",
    "df = pd.DataFrame(gdps)\n",
    "today = datetime.now().date()\n",
    "df.head(11).style.set_caption(\"GDP's (USD millions);\" +\n",
    "                    f' source: wikipedia {str(today)}')"
   ]
  },
  {
   "cell_type": "code",
   "execution_count": 13,
   "metadata": {},
   "outputs": [],
   "source": [
    "log('Extract phase Ended')\n",
    "log('Transform phase Started')"
   ]
  },
  {
   "cell_type": "code",
   "execution_count": 14,
   "metadata": {},
   "outputs": [],
   "source": [
    "# API url to call (for currency exchange rates)\n",
    "\n",
    "# API base url\n",
    "BASE_URL = 'http://api.currencylayer.com/'\n",
    "\n",
    "# get currencylayer access key\n",
    "with open(\"currencylayer_apikey.txt\") as rf:\n",
    "    API_KEY = str(rf.read().strip())\n",
    "\n",
    "# complete url for API\n",
    "URL = f'{BASE_URL}live?access_key={API_KEY}'\n",
    "\n",
    "# get rates\n",
    "#rates = get_exchange_rates(URL, write=True)\n",
    "#'''\n",
    "with open('exchange_rates.json') as rf:\n",
    "    rates = json.load(rf)\n",
    "#'''\n",
    "\n",
    "# select currency to transform to \n",
    "currency = 'GBP'\n",
    "\n",
    "# transform gdps\n",
    "gdps_transformed = transform_gdps(gdps, rates,\n",
    "                                  currency=currency)"
   ]
  },
  {
   "cell_type": "code",
   "execution_count": 15,
   "metadata": {},
   "outputs": [
    {
     "data": {
      "text/html": [
       "<style  type=\"text/css\" >\n",
       "</style><table id=\"T_a9977c1a_98d4_11eb_9d8c_88e9fe701abf\" ><caption>GDP's (GBP millions)</caption><thead>    <tr>        <th class=\"blank level0\" ></th>        <th class=\"col_heading level0 col0\" >IMF</th>        <th class=\"col_heading level0 col1\" >WB</th>        <th class=\"col_heading level0 col2\" >UN</th>    </tr></thead><tbody>\n",
       "                <tr>\n",
       "                        <th id=\"T_a9977c1a_98d4_11eb_9d8c_88e9fe701abflevel0_row0\" class=\"row_heading level0 row0\" >World</th>\n",
       "                        <td id=\"T_a9977c1a_98d4_11eb_9d8c_88e9fe701abfrow0_col0\" class=\"data row0 col0\" >68277035</td>\n",
       "                        <td id=\"T_a9977c1a_98d4_11eb_9d8c_88e9fe701abfrow0_col1\" class=\"data row0 col1\" >63865087</td>\n",
       "                        <td id=\"T_a9977c1a_98d4_11eb_9d8c_88e9fe701abfrow0_col2\" class=\"data row0 col2\" >63608119</td>\n",
       "            </tr>\n",
       "            <tr>\n",
       "                        <th id=\"T_a9977c1a_98d4_11eb_9d8c_88e9fe701abflevel0_row1\" class=\"row_heading level0 row1\" >United States</th>\n",
       "                        <td id=\"T_a9977c1a_98d4_11eb_9d8c_88e9fe701abfrow1_col0\" class=\"data row1 col0\" >16494106</td>\n",
       "                        <td id=\"T_a9977c1a_98d4_11eb_9d8c_88e9fe701abfrow1_col1\" class=\"data row1 col1\" >15590636</td>\n",
       "                        <td id=\"T_a9977c1a_98d4_11eb_9d8c_88e9fe701abfrow1_col2\" class=\"data row1 col2\" >15590636</td>\n",
       "            </tr>\n",
       "            <tr>\n",
       "                        <th id=\"T_a9977c1a_98d4_11eb_9d8c_88e9fe701abflevel0_row2\" class=\"row_heading level0 row2\" >China</th>\n",
       "                        <td id=\"T_a9977c1a_98d4_11eb_9d8c_88e9fe701abfrow2_col0\" class=\"data row2 col0\" >12105705</td>\n",
       "                        <td id=\"T_a9977c1a_98d4_11eb_9d8c_88e9fe701abfrow2_col1\" class=\"data row2 col1\" >10433099</td>\n",
       "                        <td id=\"T_a9977c1a_98d4_11eb_9d8c_88e9fe701abfrow2_col2\" class=\"data row2 col2\" >10433121</td>\n",
       "            </tr>\n",
       "            <tr>\n",
       "                        <th id=\"T_a9977c1a_98d4_11eb_9d8c_88e9fe701abflevel0_row3\" class=\"row_heading level0 row3\" >Japan</th>\n",
       "                        <td id=\"T_a9977c1a_98d4_11eb_9d8c_88e9fe701abfrow3_col0\" class=\"data row3 col0\" >3912083</td>\n",
       "                        <td id=\"T_a9977c1a_98d4_11eb_9d8c_88e9fe701abfrow3_col1\" class=\"data row3 col1\" >3696505</td>\n",
       "                        <td id=\"T_a9977c1a_98d4_11eb_9d8c_88e9fe701abfrow3_col2\" class=\"data row3 col2\" >3697010</td>\n",
       "            </tr>\n",
       "            <tr>\n",
       "                        <th id=\"T_a9977c1a_98d4_11eb_9d8c_88e9fe701abflevel0_row4\" class=\"row_heading level0 row4\" >Germany</th>\n",
       "                        <td id=\"T_a9977c1a_98d4_11eb_9d8c_88e9fe701abfrow4_col0\" class=\"data row4 col0\" >3141870</td>\n",
       "                        <td id=\"T_a9977c1a_98d4_11eb_9d8c_88e9fe701abfrow4_col1\" class=\"data row4 col1\" >2808601</td>\n",
       "                        <td id=\"T_a9977c1a_98d4_11eb_9d8c_88e9fe701abfrow4_col2\" class=\"data row4 col2\" >2808600</td>\n",
       "            </tr>\n",
       "            <tr>\n",
       "                        <th id=\"T_a9977c1a_98d4_11eb_9d8c_88e9fe701abflevel0_row5\" class=\"row_heading level0 row5\" >United Kingdom</th>\n",
       "                        <td id=\"T_a9977c1a_98d4_11eb_9d8c_88e9fe701abfrow5_col0\" class=\"data row5 col0\" >2272886</td>\n",
       "                        <td id=\"T_a9977c1a_98d4_11eb_9d8c_88e9fe701abfrow5_col1\" class=\"data row5 col1\" >2057907</td>\n",
       "                        <td id=\"T_a9977c1a_98d4_11eb_9d8c_88e9fe701abfrow5_col2\" class=\"data row5 col2\" >2055967</td>\n",
       "            </tr>\n",
       "            <tr>\n",
       "                        <th id=\"T_a9977c1a_98d4_11eb_9d8c_88e9fe701abflevel0_row6\" class=\"row_heading level0 row6\" >India</th>\n",
       "                        <td id=\"T_a9977c1a_98d4_11eb_9d8c_88e9fe701abfrow6_col0\" class=\"data row6 col0\" >2218370</td>\n",
       "                        <td id=\"T_a9977c1a_98d4_11eb_9d8c_88e9fe701abfrow6_col1\" class=\"data row6 col1\" >2086873</td>\n",
       "                        <td id=\"T_a9977c1a_98d4_11eb_9d8c_88e9fe701abfrow6_col2\" class=\"data row6 col2\" >2103351</td>\n",
       "            </tr>\n",
       "            <tr>\n",
       "                        <th id=\"T_a9977c1a_98d4_11eb_9d8c_88e9fe701abflevel0_row7\" class=\"row_heading level0 row7\" >France</th>\n",
       "                        <td id=\"T_a9977c1a_98d4_11eb_9d8c_88e9fe701abfrow7_col0\" class=\"data row7 col0\" >2137313</td>\n",
       "                        <td id=\"T_a9977c1a_98d4_11eb_9d8c_88e9fe701abfrow7_col1\" class=\"data row7 col1\" >1975281</td>\n",
       "                        <td id=\"T_a9977c1a_98d4_11eb_9d8c_88e9fe701abfrow7_col2\" class=\"data row7 col2\" >1975281</td>\n",
       "            </tr>\n",
       "            <tr>\n",
       "                        <th id=\"T_a9977c1a_98d4_11eb_9d8c_88e9fe701abflevel0_row8\" class=\"row_heading level0 row8\" >Italy</th>\n",
       "                        <td id=\"T_a9977c1a_98d4_11eb_9d8c_88e9fe701abfrow8_col0\" class=\"data row8 col0\" >1532124</td>\n",
       "                        <td id=\"T_a9977c1a_98d4_11eb_9d8c_88e9fe701abfrow8_col1\" class=\"data row8 col1\" >1457411</td>\n",
       "                        <td id=\"T_a9977c1a_98d4_11eb_9d8c_88e9fe701abfrow8_col2\" class=\"data row8 col2\" >1457411</td>\n",
       "            </tr>\n",
       "            <tr>\n",
       "                        <th id=\"T_a9977c1a_98d4_11eb_9d8c_88e9fe701abflevel0_row9\" class=\"row_heading level0 row9\" >Canada</th>\n",
       "                        <td id=\"T_a9977c1a_98d4_11eb_9d8c_88e9fe701abfrow9_col0\" class=\"data row9 col0\" >1370058</td>\n",
       "                        <td id=\"T_a9977c1a_98d4_11eb_9d8c_88e9fe701abfrow9_col1\" class=\"data row9 col1\" >1263085</td>\n",
       "                        <td id=\"T_a9977c1a_98d4_11eb_9d8c_88e9fe701abfrow9_col2\" class=\"data row9 col2\" >1266773</td>\n",
       "            </tr>\n",
       "            <tr>\n",
       "                        <th id=\"T_a9977c1a_98d4_11eb_9d8c_88e9fe701abflevel0_row10\" class=\"row_heading level0 row10\" >South Korea</th>\n",
       "                        <td id=\"T_a9977c1a_98d4_11eb_9d8c_88e9fe701abfrow10_col0\" class=\"data row10 col0\" >1314208</td>\n",
       "                        <td id=\"T_a9977c1a_98d4_11eb_9d8c_88e9fe701abfrow10_col1\" class=\"data row10 col1\" >1197846</td>\n",
       "                        <td id=\"T_a9977c1a_98d4_11eb_9d8c_88e9fe701abfrow10_col2\" class=\"data row10 col2\" >1197701</td>\n",
       "            </tr>\n",
       "    </tbody></table>"
      ],
      "text/plain": [
       "<pandas.io.formats.style.Styler at 0x1186ebf50>"
      ]
     },
     "execution_count": 15,
     "metadata": {},
     "output_type": "execute_result"
    }
   ],
   "source": [
    "# display top 10 nations GDP (transformed)\n",
    "gdps_transformed.head(11).style.set_caption(\n",
    "    f\"GDP's ({currency} millions)\")"
   ]
  },
  {
   "cell_type": "code",
   "execution_count": 16,
   "metadata": {},
   "outputs": [],
   "source": [
    "log('Transform phase Ended')\n",
    "log(\"Load phase Started\")"
   ]
  },
  {
   "cell_type": "code",
   "execution_count": 17,
   "metadata": {},
   "outputs": [],
   "source": [
    "# Load transformed gdps to file\n",
    "\n",
    "#load(gdps_transformed, wf_type='json')\n",
    "load(gdps_transformed, wf_type='csv')"
   ]
  },
  {
   "cell_type": "code",
   "execution_count": 18,
   "metadata": {},
   "outputs": [],
   "source": [
    "log(\"Load phase Ended\")\n",
    "log('ETL Job Ended')"
   ]
  },
  {
   "cell_type": "markdown",
   "metadata": {},
   "source": [
    "Big thank you to IBM Developer Skills Network and [Python for Data Engineering Project](https://www.edx.org/course/python-for-data-engineering-project) course on EdX that taught me this methodology."
   ]
  }
 ],
 "metadata": {
  "kernelspec": {
   "display_name": "Python 3",
   "language": "python",
   "name": "python3"
  },
  "language_info": {
   "codemirror_mode": {
    "name": "ipython",
    "version": 3
   },
   "file_extension": ".py",
   "mimetype": "text/x-python",
   "name": "python",
   "nbconvert_exporter": "python",
   "pygments_lexer": "ipython3",
   "version": "3.7.9"
  }
 },
 "nbformat": 4,
 "nbformat_minor": 4
}
